{
 "cells": [
  {
   "cell_type": "code",
   "execution_count": 2,
   "metadata": {
    "scrolled": true
   },
   "outputs": [
    {
     "name": "stdout",
     "output_type": "stream",
     "text": [
      "{\"log_id\":2392678184339529260,\"results\":[{\"name\":\"sunflowers\",\"score\":0.999981164932251},{\"name\":\"daisy\",\"score\":1.2307081306062173e-05},{\"name\":\"roses\",\"score\":3.790274831771967e-06},{\"name\":\"tulips\",\"score\":1.4869366395942052e-06},{\"name\":\"dandelion\",\"score\":1.2802606761397328e-06}]}\n",
      "\n"
     ]
    }
   ],
   "source": [
    "import urllib3,base64\n",
    "import json\n",
    "import requests \n",
    "\n",
    "urllib3.disable_warnings()\n",
    "\n",
    "# 调用第一个接口，获取access_token\n",
    "host = 'https://aip.baidubce.com/oauth/2.0/token?grant_type=client_credentials&client_id=GmBhFIIFWEjjhLhFQyHcD0Dn&\\\n",
    "client_secret=h4oKYyKoFnsGz1QPfLpnKf2wApFhNs0Q'\n",
    "response = requests.get(host)\n",
    "if response:\n",
    "    access_token=response.json()[\"access_token\"]\n",
    "    \n",
    "http=urllib3.PoolManager()\n",
    "url='https://aip.baidubce.com/rpc/2.0/ai_custom_pro/v1/classification/flower0308?access_token='+access_token\n",
    "\n",
    "#将图片转化为base64编码，组装参数image\n",
    "f = open('test/f1.jpg','rb')\n",
    "img = base64.b64encode(f.read())\n",
    "params={'image':''+str(img,'utf-8')+''}\n",
    "\n",
    "#对参数params数据进行json处理\n",
    "encoded_data = json.dumps(params).encode('utf-8')\n",
    "\n",
    "request=http.request('POST', \n",
    "                      url,\n",
    "                      body=encoded_data,\n",
    "                      headers={'Content-Type':'application/json'})\n",
    "result = str(request.data,'utf-8')\n",
    "print(result)"
   ]
  },
  {
   "cell_type": "code",
   "execution_count": null,
   "metadata": {
    "collapsed": true
   },
   "outputs": [],
   "source": []
  }
 ],
 "metadata": {
  "kernelspec": {
   "display_name": "Python 3",
   "language": "python",
   "name": "python3"
  },
  "language_info": {
   "codemirror_mode": {
    "name": "ipython",
    "version": 3
   },
   "file_extension": ".py",
   "mimetype": "text/x-python",
   "name": "python",
   "nbconvert_exporter": "python",
   "pygments_lexer": "ipython3",
   "version": "3.6.3"
  }
 },
 "nbformat": 4,
 "nbformat_minor": 2
}
